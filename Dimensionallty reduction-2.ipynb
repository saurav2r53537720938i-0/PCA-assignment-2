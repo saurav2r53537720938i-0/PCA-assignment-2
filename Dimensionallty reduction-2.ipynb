{
 "cells": [
  {
   "cell_type": "markdown",
   "id": "62e4bd69-8812-454e-aafc-b72a75883473",
   "metadata": {},
   "source": [
    "Projection in the context of principal components analysis(PCA) refers to the process of transforming data onto a lower-dimnsional subspace.In Pca this involve finding a set of orthogonal axes onto which the data is projected retaning the maxium variance.The projection of the orginal data onto these principal components effectively reducesbthe dimesnionally components effectively of the data while prseving as much of the orginal information as possible.This reduction in dimensionally can help in visulization data compression and feature extraction.Mathematically the projection of a data point onto a principal components is simply the dot product of data point with the principal compoment is simply the dot product of the data point with the principal components vector the resulting coordinates reprsent the location of the data point in the reduced dimensional space defined by the principal components"
   ]
  },
  {
   "cell_type": "markdown",
   "id": "6cf954f5-89e0-42e8-a29e-b0411a005a89",
   "metadata": {},
   "source": [
    "The optimization problemb in principal component anylysis(PCA) aims to find the direction along whuch the data varies the most this is acheived by maximizing the variance of the projected data points onto these direction.Formally the optmization problemb in PCA can be stated as follow.Given a datset with data point dimensional subspace onto which total variance of the projected data is maximized this is acheived by finding the orthgonal unit vector that maximize from orginal data points to their projections onto these vector . Mathematically the optimization poblebs can be formulated as findingg the eigenvectors of the covaraiance matrix of the data specficallyy the "
   ]
  },
  {
   "cell_type": "markdown",
   "id": "f67ebbfe-b215-46ed-94f4-580327181b1f",
   "metadata": {},
   "source": [
    "The covariance matrix plays a central role in principal components anylaysis (PCA) as it provides essential information about their relationship and variablity among the diffrent dimesnion of the data:\n",
    "1. Covariance Matrix Calculation\n",
    "2. Eigenvalue Decompostion\n",
    "3. Principal Components\n",
    "4. Projection\n",
    "In summary the covarince matrix encapsulates the relationship and variablity within in data and PCA utlizes the eigenvectors of this matrix to identify the principal components which are the orthognal direction the capture the maxium varaince the datset"
   ]
  },
  {
   "cell_type": "markdown",
   "id": "6b56ca93-8544-43db-8ef0-a63636d2d3e3",
   "metadata": {},
   "source": [
    "The Choice of the number of principal components in PCA can signficantly impact it performance and the effictivness of dimensionallty reduction.\n",
    "1. Explained Variance \n",
    "2. Dimensionalty Reduction\n",
    "3. Computaional Efficency\n",
    "4. Overfitting and Genralization\n",
    "5. Interpretablity\n",
    "In pratice the choice of the number of the principal components is often"
   ]
  },
  {
   "cell_type": "markdown",
   "id": "e65d9d7c-5fee-45ae-9327-c13b58b93cf0",
   "metadata": {},
   "source": [
    "PCA can be used in feature slection by slecting a subsets of principal components that capture the most important information in the data here how PCA can be applied for feature slection  and its benfits\n",
    "1. Variance based feature slection \n",
    "2. Dimwnsionalty\n",
    "3. Noise reduction\n",
    "4. Improved interpretablity\n",
    "5. Componentarty to other feature slection method"
   ]
  },
  {
   "cell_type": "markdown",
   "id": "895726a3-e1d5-4cee-99e0-38f948a5954c",
   "metadata": {},
   "source": [
    "In the context of PCA spread and variance are closely related concepts variance in PCA:\n",
    "1. Varaince: In PCA variance refers to the amount of variablity or dispersion of data points along each principal components axis the variance of a principal component reprsent the amount of information or signal captured by that component with higher variance components more of the variablity in the data and are consider more important reprsenting and underlying structure of the data\n",
    "2. Spread: The term spread is often used informally to describe the ddistributioon of data points in the reduced-dimesnional space defined by the principal components it refers to how widely the data points are distributed along the principal components typically leads to a wider spread of the data"
   ]
  },
  {
   "cell_type": "markdown",
   "id": "49ee9a77-8ec7-4abb-aab5-b8af1a2c5ad6",
   "metadata": {},
   "source": [
    "PCA is particullarly effective at handling data with high variance in some dimension and low variance in others.Here how PCA deals with such situations:\n",
    "1. Dimensionalty Reduction\n",
    "2. Variance Maximization\n",
    "3. Normalization\n",
    "4. Interpretation\n",
    "In summary PCA is robust to data with "
   ]
  }
 ],
 "metadata": {
  "kernelspec": {
   "display_name": "Python 3 (ipykernel)",
   "language": "python",
   "name": "python3"
  },
  "language_info": {
   "codemirror_mode": {
    "name": "ipython",
    "version": 3
   },
   "file_extension": ".py",
   "mimetype": "text/x-python",
   "name": "python",
   "nbconvert_exporter": "python",
   "pygments_lexer": "ipython3",
   "version": "3.10.8"
  }
 },
 "nbformat": 4,
 "nbformat_minor": 5
}
